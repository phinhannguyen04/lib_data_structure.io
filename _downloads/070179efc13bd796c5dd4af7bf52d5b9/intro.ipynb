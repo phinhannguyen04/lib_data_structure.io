{
  "cells": [
    {
      "cell_type": "code",
      "execution_count": 2,
      "metadata": {
        "id": "7TIsVjgkuhK1"
      },
      "outputs": [],
      "source": [
        "# For tips on running notebooks in Google Colab, see\n",
        "# https://pytorch.org/tutorials/beginner/colab\n",
        "%matplotlib inline"
      ]
    },
    {
      "cell_type": "markdown",
      "metadata": {
        "id": "0dXUaezSuhK5"
      },
      "source": [
        "**Learn the Basics** \\|\\| [Quickstart](quickstart_tutorial.html) \\|\\|\n",
        "[Tensors](tensorqs_tutorial.html) \\|\\| [Datasets &\n",
        "DataLoaders](data_tutorial.html) \\|\\|\n",
        "[Transforms](transforms_tutorial.html) \\|\\| [Build\n",
        "Model](buildmodel_tutorial.html) \\|\\|\n",
        "[Autograd](autogradqs_tutorial.html) \\|\\|\n",
        "[Optimization](optimization_tutorial.html) \\|\\| [Save & Load\n",
        "Model](saveloadrun_tutorial.html)\n",
        "\n",
        "Learn the Basics\n",
        "================\n",
        "\n",
        "Authors: [Suraj Subramanian](https://github.com/subramen), [Seth\n",
        "Juarez](https://github.com/sethjuarez/), [Cassie\n",
        "Breviu](https://github.com/cassiebreviu/), [Dmitry\n",
        "Soshnikov](https://soshnikov.com/), [Ari\n",
        "Bornstein](https://github.com/aribornstein/)\n",
        "\n",
        "Most machine learning workflows involve working with data, creating\n",
        "models, optimizing model parameters, and saving the trained models. This\n",
        "tutorial introduces you to a complete ML workflow implemented in\n",
        "PyTorch, with links to learn more about each of these concepts.\n",
        "\n",
        "We\\'ll use the FashionMNIST dataset to train a neural network that\n",
        "predicts if an input image belongs to one of the following classes:\n",
        "T-shirt/top, Trouser, Pullover, Dress, Coat, Sandal, Shirt, Sneaker,\n",
        "Bag, or Ankle boot.\n",
        "\n",
        "[This tutorial assumes a basic familiarity with Python and Deep Learning\n",
        "concepts.]{.title-ref}\n",
        "\n",
        "Running the Tutorial Code\n",
        "-------------------------\n",
        "\n",
        "You can run this tutorial in a couple of ways:\n",
        "\n",
        "-   **In the cloud**: This is the easiest way to get started! Each\n",
        "    section has a \\\"Run in Microsoft Learn\\\" and \\\"Run in Google Colab\\\"\n",
        "    link at the top, which opens an integrated notebook in Microsoft\n",
        "    Learn or Google Colab, respectively, with the code in a fully-hosted\n",
        "    environment.\n",
        "-   **Locally**: This option requires you to setup PyTorch and\n",
        "    TorchVision first on your local machine ([installation\n",
        "    instructions](https://pytorch.org/get-started/locally/)). Download\n",
        "    the notebook or copy the code into your favorite IDE.\n",
        "\n",
        "How to Use this Guide\n",
        "---------------------\n",
        "\n",
        "If you\\'re familiar with other deep learning frameworks, check out the\n",
        "[0. Quickstart](quickstart_tutorial.html) first to quickly familiarize\n",
        "yourself with PyTorch\\'s API.\n",
        "\n",
        "If you\\'re new to deep learning frameworks, head right into the first\n",
        "section of our step-by-step guide: [1. Tensors](tensor_tutorial.html).\n",
        "\n",
        "::: {.toctree maxdepth=\"2\" hidden=\"\"}\n",
        "quickstart\\_tutorial tensorqs\\_tutorial data\\_tutorial\n",
        "transforms\\_tutorial buildmodel\\_tutorial autogradqs\\_tutorial\n",
        "optimization\\_tutorial saveloadrun\\_tutorial\n",
        ":::\n"
      ]
    },
    {
      "cell_type": "code",
      "source": [
        "import torch\n",
        "import numpy as np"
      ],
      "metadata": {
        "id": "hbU3yT7cvWQX"
      },
      "execution_count": 3,
      "outputs": []
    },
    {
      "cell_type": "markdown",
      "source": [
        "## **Tensor**\n"
      ],
      "metadata": {
        "id": "91euGPOfvSpK"
      }
    },
    {
      "cell_type": "code",
      "source": [
        "# create tensor from list\n",
        "data = [\n",
        "    [1,2],\n",
        "    [3,4]\n",
        "]\n",
        "\n",
        "# tensor type\n",
        "x_data=torch.tensor(data)\n",
        "\n",
        "print(x_data)"
      ],
      "metadata": {
        "id": "1kRihA3Ovq1k",
        "outputId": "9e0bfb35-217f-4e80-b501-67024714b9b0",
        "colab": {
          "base_uri": "https://localhost:8080/"
        }
      },
      "execution_count": 4,
      "outputs": [
        {
          "output_type": "stream",
          "name": "stdout",
          "text": [
            "tensor([[1, 2],\n",
            "        [3, 4]])\n"
          ]
        }
      ]
    },
    {
      "cell_type": "code",
      "source": [
        "# create tensor from numpy\n",
        "np_data = np.array(data)\n",
        "x_np = torch.from_numpy(np_data)\n",
        "\n",
        "print(x_np)\n"
      ],
      "metadata": {
        "id": "AnMCmGNev7Zq",
        "outputId": "94dd8e69-f907-46a6-e290-75c3f79a8ec8",
        "colab": {
          "base_uri": "https://localhost:8080/"
        }
      },
      "execution_count": 5,
      "outputs": [
        {
          "output_type": "stream",
          "name": "stdout",
          "text": [
            "tensor([[1, 2],\n",
            "        [3, 4]])\n"
          ]
        }
      ]
    },
    {
      "cell_type": "code",
      "source": [
        "# from another tensor\n",
        "x_one = torch.ones_like(x_data)\n",
        "print(f\"Ones Tensor: \\n {x_one} \\n\")\n",
        "\n",
        "x_zero = torch.zeros_like(x_data)\n",
        "print(f\"Zeros Tensor: \\n {x_zero} \\n\")"
      ],
      "metadata": {
        "id": "88_D1hqYwfZl",
        "outputId": "a950030b-6bc9-4de9-f404-e37d29e76cea",
        "colab": {
          "base_uri": "https://localhost:8080/"
        }
      },
      "execution_count": 6,
      "outputs": [
        {
          "output_type": "stream",
          "name": "stdout",
          "text": [
            "Ones Tensor: \n",
            " tensor([[1, 1],\n",
            "        [1, 1]]) \n",
            "\n",
            "Zeros Tensor: \n",
            " tensor([[0, 0],\n",
            "        [0, 0]]) \n",
            "\n"
          ]
        }
      ]
    },
    {
      "cell_type": "code",
      "source": [
        "print(x_data.shape)\n",
        "print(x_data.dtype)\n",
        "print(x_data.device)"
      ],
      "metadata": {
        "id": "mqtdk1hSxf4j",
        "outputId": "85942d64-3f6f-4bb6-afa1-49292e576649",
        "colab": {
          "base_uri": "https://localhost:8080/"
        }
      },
      "execution_count": 7,
      "outputs": [
        {
          "output_type": "stream",
          "name": "stdout",
          "text": [
            "torch.Size([2, 2])\n",
            "torch.int64\n",
            "cpu\n"
          ]
        }
      ]
    },
    {
      "cell_type": "code",
      "source": [
        "shape = (2,3,)\n",
        "rand_tensor = torch.rand(shape)\n",
        "print(rand_tensor)"
      ],
      "metadata": {
        "id": "MtxQpFADf9-r",
        "outputId": "4f5563f3-3072-42ec-952f-f632a9f41d29",
        "colab": {
          "base_uri": "https://localhost:8080/"
        }
      },
      "execution_count": 8,
      "outputs": [
        {
          "output_type": "stream",
          "name": "stdout",
          "text": [
            "tensor([[0.1017, 0.5073, 0.8541],\n",
            "        [0.0128, 0.4360, 0.5574]])\n"
          ]
        }
      ]
    },
    {
      "cell_type": "code",
      "source": [
        "new_data = [\n",
        "    [1,2,5],\n",
        "    [3,4,6]\n",
        "]\n",
        "\n",
        "tensor = torch.tensor(new_data, dtype=torch.float)\n",
        "\n",
        "result = torch.mul(tensor, tensor)\n",
        "print(result)\n"
      ],
      "metadata": {
        "id": "SSA205fvkP-W",
        "outputId": "fb5dab29-fb0a-44b1-86cd-02c1f12593d0",
        "colab": {
          "base_uri": "https://localhost:8080/"
        }
      },
      "execution_count": 15,
      "outputs": [
        {
          "output_type": "stream",
          "name": "stdout",
          "text": [
            "tensor([[ 1.,  4., 25.],\n",
            "        [ 9., 16., 36.]])\n"
          ]
        }
      ]
    },
    {
      "cell_type": "code",
      "source": [
        "# Bridge with numpy\n",
        "\n",
        "shape = (3,3)\n",
        "t = torch.rand(shape)\n",
        "print(F\"tensor: {t}\")\n",
        "\n",
        "n = t.numpy()\n",
        "print(f\"numpy: {n}\")"
      ],
      "metadata": {
        "id": "1TGFb0qQn5fm",
        "outputId": "ead60472-43f9-4ee4-f131-01db0f878b51",
        "colab": {
          "base_uri": "https://localhost:8080/"
        }
      },
      "execution_count": 17,
      "outputs": [
        {
          "output_type": "stream",
          "name": "stdout",
          "text": [
            "tensor: tensor([[0.0167, 0.9885, 0.0708],\n",
            "        [0.8326, 0.5416, 0.6637],\n",
            "        [0.4582, 0.0379, 0.5636]])\n",
            "numpy: [[0.01672566 0.9884505  0.07080257]\n",
            " [0.8326454  0.5416452  0.6637008 ]\n",
            " [0.4581958  0.03785634 0.5635762 ]]\n"
          ]
        }
      ]
    },
    {
      "cell_type": "code",
      "source": [
        "n[0, 0] = 10\n",
        "\n",
        "print(F\"tensor: {t}\")\n",
        "print(f\"numpy: {n}\")"
      ],
      "metadata": {
        "id": "0OaAIGGMoVPP",
        "outputId": "ddd719af-8614-4854-cfa4-6a6ec8183bdf",
        "colab": {
          "base_uri": "https://localhost:8080/"
        }
      },
      "execution_count": 18,
      "outputs": [
        {
          "output_type": "stream",
          "name": "stdout",
          "text": [
            "tensor: tensor([[10.0000,  0.9885,  0.0708],\n",
            "        [ 0.8326,  0.5416,  0.6637],\n",
            "        [ 0.4582,  0.0379,  0.5636]])\n",
            "numpy: [[10.          0.9884505   0.07080257]\n",
            " [ 0.8326454   0.5416452   0.6637008 ]\n",
            " [ 0.4581958   0.03785634  0.5635762 ]]\n"
          ]
        }
      ]
    }
  ],
  "metadata": {
    "kernelspec": {
      "display_name": "Python 3",
      "name": "python3"
    },
    "language_info": {
      "codemirror_mode": {
        "name": "ipython",
        "version": 3
      },
      "file_extension": ".py",
      "mimetype": "text/x-python",
      "name": "python",
      "nbconvert_exporter": "python",
      "pygments_lexer": "ipython3",
      "version": "3.10.12"
    },
    "colab": {
      "provenance": [],
      "gpuType": "T4"
    },
    "accelerator": "GPU"
  },
  "nbformat": 4,
  "nbformat_minor": 0
}